{
  "nbformat": 4,
  "nbformat_minor": 0,
  "metadata": {
    "colab": {
      "name": "Sentiment analysis.ipynb",
      "provenance": [],
      "collapsed_sections": [],
      "authorship_tag": "ABX9TyMbFdh1tE+KEJdGCbEj/M6k"
    },
    "kernelspec": {
      "name": "python3",
      "display_name": "Python 3"
    },
    "language_info": {
      "name": "python"
    },
    "accelerator": "GPU"
  },
  "cells": [
    {
      "cell_type": "code",
      "metadata": {
        "id": "RF05xbrtGKTS"
      },
      "source": [
        "import pandas as pd\n",
        "import numpy as np\n",
        "import matplotlib.pyplot as plt\n",
        "import seaborn as sns"
      ],
      "execution_count": 1,
      "outputs": []
    },
    {
      "cell_type": "code",
      "metadata": {
        "id": "79XeRx5iFz_x"
      },
      "source": [
        "df = pd.read_csv('https://raw.githubusercontent.com/gabrielpreda/covid-19-tweets/master/covid19_tweets.csv')"
      ],
      "execution_count": 2,
      "outputs": []
    },
    {
      "cell_type": "code",
      "metadata": {
        "id": "COy5UuXqF_Kx",
        "colab": {
          "base_uri": "https://localhost:8080/",
          "height": 128
        },
        "outputId": "a4aa1e7b-09a1-4f0b-99c0-aa72b1becf58"
      },
      "source": [
        "df.head(1)"
      ],
      "execution_count": 3,
      "outputs": [
        {
          "output_type": "execute_result",
          "data": {
            "text/html": [
              "<div>\n",
              "<style scoped>\n",
              "    .dataframe tbody tr th:only-of-type {\n",
              "        vertical-align: middle;\n",
              "    }\n",
              "\n",
              "    .dataframe tbody tr th {\n",
              "        vertical-align: top;\n",
              "    }\n",
              "\n",
              "    .dataframe thead th {\n",
              "        text-align: right;\n",
              "    }\n",
              "</style>\n",
              "<table border=\"1\" class=\"dataframe\">\n",
              "  <thead>\n",
              "    <tr style=\"text-align: right;\">\n",
              "      <th></th>\n",
              "      <th>user_name</th>\n",
              "      <th>user_location</th>\n",
              "      <th>user_description</th>\n",
              "      <th>user_created</th>\n",
              "      <th>user_followers</th>\n",
              "      <th>user_friends</th>\n",
              "      <th>user_favourites</th>\n",
              "      <th>user_verified</th>\n",
              "      <th>date</th>\n",
              "      <th>text</th>\n",
              "      <th>hashtags</th>\n",
              "      <th>source</th>\n",
              "      <th>is_retweet</th>\n",
              "    </tr>\n",
              "  </thead>\n",
              "  <tbody>\n",
              "    <tr>\n",
              "      <th>0</th>\n",
              "      <td>ᏉᎥ☻լꂅϮ</td>\n",
              "      <td>astroworld</td>\n",
              "      <td>wednesday addams as a disney princess keepin i...</td>\n",
              "      <td>2017-05-26 05:46:42</td>\n",
              "      <td>624</td>\n",
              "      <td>950</td>\n",
              "      <td>18775</td>\n",
              "      <td>False</td>\n",
              "      <td>2020-07-25 12:27:21</td>\n",
              "      <td>If I smelled the scent of hand sanitizers toda...</td>\n",
              "      <td>NaN</td>\n",
              "      <td>Twitter for iPhone</td>\n",
              "      <td>False</td>\n",
              "    </tr>\n",
              "  </tbody>\n",
              "</table>\n",
              "</div>"
            ],
            "text/plain": [
              "  user_name user_location  ...              source is_retweet\n",
              "0    ᏉᎥ☻լꂅϮ    astroworld  ...  Twitter for iPhone      False\n",
              "\n",
              "[1 rows x 13 columns]"
            ]
          },
          "metadata": {},
          "execution_count": 3
        }
      ]
    },
    {
      "cell_type": "code",
      "metadata": {
        "colab": {
          "base_uri": "https://localhost:8080/"
        },
        "id": "IUUG44A_I3_x",
        "outputId": "1fabe304-84ab-442c-ed5c-6b9abcec0525"
      },
      "source": [
        "df.shape"
      ],
      "execution_count": 4,
      "outputs": [
        {
          "output_type": "execute_result",
          "data": {
            "text/plain": [
              "(179108, 13)"
            ]
          },
          "metadata": {},
          "execution_count": 4
        }
      ]
    },
    {
      "cell_type": "code",
      "metadata": {
        "colab": {
          "base_uri": "https://localhost:8080/"
        },
        "id": "cfZnb9q3JQYv",
        "outputId": "1b0293fd-6937-4434-f3d2-1f4e2de9660d"
      },
      "source": [
        "df.dtypes"
      ],
      "execution_count": 5,
      "outputs": [
        {
          "output_type": "execute_result",
          "data": {
            "text/plain": [
              "user_name           object\n",
              "user_location       object\n",
              "user_description    object\n",
              "user_created        object\n",
              "user_followers       int64\n",
              "user_friends         int64\n",
              "user_favourites      int64\n",
              "user_verified         bool\n",
              "date                object\n",
              "text                object\n",
              "hashtags            object\n",
              "source              object\n",
              "is_retweet            bool\n",
              "dtype: object"
            ]
          },
          "metadata": {},
          "execution_count": 5
        }
      ]
    },
    {
      "cell_type": "code",
      "metadata": {
        "colab": {
          "base_uri": "https://localhost:8080/",
          "height": 112
        },
        "id": "HAjlmgRULBHy",
        "outputId": "96189924-d885-481b-d8ee-5b518edefc04"
      },
      "source": [
        "#combert user_name to categorical type#\n",
        "df['user_name'] = df['user_name'].astype('category')\n",
        "#create an unique value for every user_name#\n",
        "df['user_name'] = df['user_name'].cat.codes\n",
        "#change date to datetime and delete time#\n",
        "df['date'] = pd.to_datetime(df['date']).dt.date\n",
        "df.head(1)"
      ],
      "execution_count": 6,
      "outputs": [
        {
          "output_type": "execute_result",
          "data": {
            "text/html": [
              "<div>\n",
              "<style scoped>\n",
              "    .dataframe tbody tr th:only-of-type {\n",
              "        vertical-align: middle;\n",
              "    }\n",
              "\n",
              "    .dataframe tbody tr th {\n",
              "        vertical-align: top;\n",
              "    }\n",
              "\n",
              "    .dataframe thead th {\n",
              "        text-align: right;\n",
              "    }\n",
              "</style>\n",
              "<table border=\"1\" class=\"dataframe\">\n",
              "  <thead>\n",
              "    <tr style=\"text-align: right;\">\n",
              "      <th></th>\n",
              "      <th>user_name</th>\n",
              "      <th>user_location</th>\n",
              "      <th>user_description</th>\n",
              "      <th>user_created</th>\n",
              "      <th>user_followers</th>\n",
              "      <th>user_friends</th>\n",
              "      <th>user_favourites</th>\n",
              "      <th>user_verified</th>\n",
              "      <th>date</th>\n",
              "      <th>text</th>\n",
              "      <th>hashtags</th>\n",
              "      <th>source</th>\n",
              "      <th>is_retweet</th>\n",
              "    </tr>\n",
              "  </thead>\n",
              "  <tbody>\n",
              "    <tr>\n",
              "      <th>0</th>\n",
              "      <td>89755</td>\n",
              "      <td>astroworld</td>\n",
              "      <td>wednesday addams as a disney princess keepin i...</td>\n",
              "      <td>2017-05-26 05:46:42</td>\n",
              "      <td>624</td>\n",
              "      <td>950</td>\n",
              "      <td>18775</td>\n",
              "      <td>False</td>\n",
              "      <td>2020-07-25</td>\n",
              "      <td>If I smelled the scent of hand sanitizers toda...</td>\n",
              "      <td>NaN</td>\n",
              "      <td>Twitter for iPhone</td>\n",
              "      <td>False</td>\n",
              "    </tr>\n",
              "  </tbody>\n",
              "</table>\n",
              "</div>"
            ],
            "text/plain": [
              "   user_name user_location  ...              source is_retweet\n",
              "0      89755    astroworld  ...  Twitter for iPhone      False\n",
              "\n",
              "[1 rows x 13 columns]"
            ]
          },
          "metadata": {},
          "execution_count": 6
        }
      ]
    },
    {
      "cell_type": "code",
      "metadata": {
        "colab": {
          "base_uri": "https://localhost:8080/"
        },
        "id": "1yzDmxh8Qm6h",
        "outputId": "83fbaf49-eb99-4174-df19-c7a1af10623d"
      },
      "source": [
        "#removing urls from tweets#\n",
        "import re\n",
        "text = df['text']\n",
        "remove_url = lambda x: re.sub(r'https\\S+', '', str(x))\n",
        "text_lr = text.apply(remove_url)\n",
        "text_lr.head(1)"
      ],
      "execution_count": 7,
      "outputs": [
        {
          "output_type": "execute_result",
          "data": {
            "text/plain": [
              "0    If I smelled the scent of hand sanitizers toda...\n",
              "Name: text, dtype: object"
            ]
          },
          "metadata": {},
          "execution_count": 7
        }
      ]
    },
    {
      "cell_type": "code",
      "metadata": {
        "colab": {
          "base_uri": "https://localhost:8080/"
        },
        "id": "qeQWd6EgQm-n",
        "outputId": "fa6d2d44-0aa6-4b83-f483-09f0d01ee6b3"
      },
      "source": [
        "#combert all tweets to lower case#\n",
        "to_lower = lambda x: x.lower()\n",
        "text_lr_lc = text_lr.apply(to_lower)\n",
        "text_lr_lc.head(2)"
      ],
      "execution_count": 8,
      "outputs": [
        {
          "output_type": "execute_result",
          "data": {
            "text/plain": [
              "0    if i smelled the scent of hand sanitizers toda...\n",
              "1    hey @yankees @yankeespr and @mlb - wouldn't it...\n",
              "Name: text, dtype: object"
            ]
          },
          "metadata": {},
          "execution_count": 8
        }
      ]
    },
    {
      "cell_type": "code",
      "metadata": {
        "id": "7sqDLZatMVOZ",
        "colab": {
          "base_uri": "https://localhost:8080/"
        },
        "outputId": "b9649eac-4bc6-4ee5-c5fa-3ba072ac3555"
      },
      "source": [
        "#remove punctuation# \n",
        "import string\n",
        "remove_puncs = lambda x: x.translate(str.maketrans('','', string.punctuation)) #metod that create a translation table\n",
        "# but we dont want to replace nothing so we leave empty and apply string.punctuation to remove puntantion\n",
        "text_lr_lc_rp = text_lr_lc.apply(remove_puncs)\n",
        "text_lr_lc_rp.head(1)\n"
      ],
      "execution_count": 9,
      "outputs": [
        {
          "output_type": "execute_result",
          "data": {
            "text/plain": [
              "0    if i smelled the scent of hand sanitizers toda...\n",
              "Name: text, dtype: object"
            ]
          },
          "metadata": {},
          "execution_count": 9
        }
      ]
    },
    {
      "cell_type": "code",
      "metadata": {
        "colab": {
          "base_uri": "https://localhost:8080/"
        },
        "id": "P9cxl6iGh4dM",
        "outputId": "f736cb25-5b0b-431a-bf24-e66615845236"
      },
      "source": [
        "import nltk\n",
        "from nltk.tokenize import sent_tokenize\n",
        "from nltk.corpus import words\n",
        "from nltk.corpus import stopwords\n",
        "from nltk.tokenize import word_tokenize\n",
        "from nltk.stem import WordNetLemmatizer\n",
        "from nltk.stem import PorterStemmer\n",
        "from nltk.sentiment.vader import SentimentIntensityAnalyzer\n",
        "from nltk.sentiment.util import *\n",
        "nltk.download('stopwords')\n",
        "nltk.download('vader_lexicon')"
      ],
      "execution_count": 10,
      "outputs": [
        {
          "output_type": "stream",
          "text": [
            "[nltk_data] Downloading package stopwords to /root/nltk_data...\n",
            "[nltk_data]   Unzipping corpora/stopwords.zip.\n",
            "[nltk_data] Downloading package vader_lexicon to /root/nltk_data...\n"
          ],
          "name": "stdout"
        },
        {
          "output_type": "stream",
          "text": [
            "/usr/local/lib/python3.7/dist-packages/nltk/twitter/__init__.py:20: UserWarning: The twython library has not been installed. Some functionality from the twitter package will not be available.\n",
            "  warnings.warn(\"The twython library has not been installed. \"\n"
          ],
          "name": "stderr"
        },
        {
          "output_type": "execute_result",
          "data": {
            "text/plain": [
              "True"
            ]
          },
          "metadata": {},
          "execution_count": 10
        }
      ]
    },
    {
      "cell_type": "code",
      "metadata": {
        "colab": {
          "base_uri": "https://localhost:8080/"
        },
        "id": "jQV53s9QWMaO",
        "outputId": "0fb70bfa-d736-4c83-d84c-6f13cd5c99fd"
      },
      "source": [
        "#removing stopwords(words that are frecuenly and unusfull for our analysis#\n",
        "more_words = ['covid', '#coronavirus', 'coronaviruspandemic', '#covid19', 'covid19']\n",
        "stop_words = set(stopwords.words('english')) #common words in english#\n",
        "stop_words.update(more_words)\n",
        "print(stop_words)\n",
        "\n",
        "remove_words = lambda x: ' '.join([word for word in x.split() if word not in stop_words])\n",
        "text_lr_lc_rp_ns = text_lr_lc_rp.apply(remove_words)\n",
        "text_lr_lc_rp_ns.head(1)"
      ],
      "execution_count": 11,
      "outputs": [
        {
          "output_type": "stream",
          "text": [
            "{'d', 'the', \"mightn't\", 'by', 'against', \"weren't\", 'haven', 'mustn', 'yourself', 'why', 'when', 'to', 'own', 'its', 'while', \"mustn't\", 'ma', 'have', 'into', \"wouldn't\", 'ours', \"won't\", 'has', 'yourselves', 'doesn', 'wasn', \"you've\", 'does', 'where', 'covid', 'am', 'he', 'that', 'coronaviruspandemic', 'up', 'did', \"needn't\", 'through', \"couldn't\", 'him', 'should', 'it', 'will', 'which', 'at', \"wasn't\", 'doing', 'needn', 'won', 'here', \"shouldn't\", 'an', 'above', \"you'll\", 'of', 'or', 'than', 'again', 'we', 'a', 'just', 'yours', 'with', 'below', 'herself', 'but', 'had', 'very', 's', 'her', 'm', 'itself', 'during', 'such', \"that'll\", 'shouldn', \"didn't\", 'having', 'and', 'same', 'me', 'out', 'hadn', 'll', 'theirs', 'myself', 'shan', 'themselves', 'is', 'no', 'under', \"you'd\", 'you', 'be', 'any', \"hasn't\", 'between', 'over', 'o', 'ain', 'down', 'don', 'do', \"haven't\", 'who', 'i', 'some', 'my', \"doesn't\", 'isn', 'this', 'off', 'hasn', 'whom', 'only', 'those', 'because', 'after', 'now', 'didn', 'covid19', 're', '#coronavirus', 'from', 'them', 'was', 'each', 'couldn', 'were', 'there', 'their', 've', 'other', 'been', 'himself', 'then', '#covid19', \"she's\", 'on', 'most', 'she', 'his', 'for', 'they', 'aren', 'our', 'so', 'all', 'weren', 'few', 'nor', 'mightn', 'are', 'can', 'these', 'how', \"should've\", 'before', 't', 'y', 'too', \"isn't\", 'hers', 'not', \"shan't\", 'your', 'wouldn', 'ourselves', \"don't\", 'until', \"aren't\", 'being', \"you're\", 'if', 'about', 'both', 'more', 'further', 'in', 'as', 'once', \"hadn't\", \"it's\", 'what'}\n"
          ],
          "name": "stdout"
        },
        {
          "output_type": "execute_result",
          "data": {
            "text/plain": [
              "0    smelled scent hand sanitizers today someone pa...\n",
              "Name: text, dtype: object"
            ]
          },
          "metadata": {},
          "execution_count": 11
        }
      ]
    },
    {
      "cell_type": "code",
      "metadata": {
        "colab": {
          "base_uri": "https://localhost:8080/"
        },
        "id": "_gLO1rsSiZbk",
        "outputId": "828e134b-6121-49e6-8cf9-dbf0623bd5a8"
      },
      "source": [
        "#create a list of words out of all the tweets#\n",
        "words_list = [word for line in text_lr_lc_rp_ns for word in line.split()] #first look in lines second look in words#\n",
        "words_list[:5]"
      ],
      "execution_count": 12,
      "outputs": [
        {
          "output_type": "execute_result",
          "data": {
            "text/plain": [
              "['smelled', 'scent', 'hand', 'sanitizers', 'today']"
            ]
          },
          "metadata": {},
          "execution_count": 12
        }
      ]
    },
    {
      "cell_type": "code",
      "metadata": {
        "colab": {
          "base_uri": "https://localhost:8080/"
        },
        "id": "uHVJ6ywnlRhn",
        "outputId": "721eb423-32bf-4e63-d069-0c887ad396cf"
      },
      "source": [
        "#count most common words#\n",
        "import collections\n",
        "word_counts = collections.Counter(words_list).most_common(10)\n",
        "print(word_counts)\n",
        "#combert into a data frame#\n",
        "word_df = pd.DataFrame(word_counts)\n",
        "word_df.columns = ['word', 'frq']\n",
        "print(word_df)"
      ],
      "execution_count": 13,
      "outputs": [
        {
          "output_type": "stream",
          "text": [
            "[('cases', 18596), ('new', 14683), ('coronavirus', 14176), ('amp', 11907), ('people', 9053), ('pandemic', 7869), ('deaths', 7429), ('us', 7245), ('health', 5188), ('one', 4825)]\n",
            "          word    frq\n",
            "0        cases  18596\n",
            "1          new  14683\n",
            "2  coronavirus  14176\n",
            "3          amp  11907\n",
            "4       people   9053\n",
            "5     pandemic   7869\n",
            "6       deaths   7429\n",
            "7           us   7245\n",
            "8       health   5188\n",
            "9          one   4825\n"
          ],
          "name": "stdout"
        }
      ]
    },
    {
      "cell_type": "code",
      "metadata": {
        "id": "yCkwOMniiZfB"
      },
      "source": [
        "from collections import Counter\n",
        "\n",
        "from matplotlib import pyplot as plt\n",
        "from matplotlib import ticker\n",
        "import seaborn as sns\n",
        "#import plotly.express as px\n",
        "\n",
        "sns.set(style=\"darkgrid\")"
      ],
      "execution_count": 14,
      "outputs": []
    },
    {
      "cell_type": "code",
      "metadata": {
        "colab": {
          "base_uri": "https://localhost:8080/",
          "height": 363
        },
        "id": "7YN_rOConw54",
        "outputId": "d97fb353-c609-45ef-995b-c3288ee89e11"
      },
      "source": [
        "sns.barplot(data = word_df, x = 'word', y = 'frq')\n",
        "plt.xticks(rotation = 45)\n",
        "#add tittle and delete covid19 of words#"
      ],
      "execution_count": 15,
      "outputs": [
        {
          "output_type": "execute_result",
          "data": {
            "text/plain": [
              "(array([0, 1, 2, 3, 4, 5, 6, 7, 8, 9]),\n",
              " <a list of 10 Text major ticklabel objects>)"
            ]
          },
          "metadata": {},
          "execution_count": 15
        },
        {
          "output_type": "display_data",
          "data": {
            "image/png": "[encoded data removed]",
            "text/plain": [
              "<Figure size 432x288 with 1 Axes>"
            ]
          },
          "metadata": {}
        }
      ]
    },
    {
      "cell_type": "code",
      "metadata": {
        "colab": {
          "base_uri": "https://localhost:8080/",
          "height": 210
        },
        "id": "8ls8OMytlRk9",
        "outputId": "753770de-c6d5-42a0-f9dc-1e952fbf46a3"
      },
      "source": [
        "#add the clead text to our df#\n",
        "df['text'] = text_lr_lc_rp_ns\n",
        "df.head(2)"
      ],
      "execution_count": 16,
      "outputs": [
        {
          "output_type": "execute_result",
          "data": {
            "text/html": [
              "<div>\n",
              "<style scoped>\n",
              "    .dataframe tbody tr th:only-of-type {\n",
              "        vertical-align: middle;\n",
              "    }\n",
              "\n",
              "    .dataframe tbody tr th {\n",
              "        vertical-align: top;\n",
              "    }\n",
              "\n",
              "    .dataframe thead th {\n",
              "        text-align: right;\n",
              "    }\n",
              "</style>\n",
              "<table border=\"1\" class=\"dataframe\">\n",
              "  <thead>\n",
              "    <tr style=\"text-align: right;\">\n",
              "      <th></th>\n",
              "      <th>user_name</th>\n",
              "      <th>user_location</th>\n",
              "      <th>user_description</th>\n",
              "      <th>user_created</th>\n",
              "      <th>user_followers</th>\n",
              "      <th>user_friends</th>\n",
              "      <th>user_favourites</th>\n",
              "      <th>user_verified</th>\n",
              "      <th>date</th>\n",
              "      <th>text</th>\n",
              "      <th>hashtags</th>\n",
              "      <th>source</th>\n",
              "      <th>is_retweet</th>\n",
              "    </tr>\n",
              "  </thead>\n",
              "  <tbody>\n",
              "    <tr>\n",
              "      <th>0</th>\n",
              "      <td>89755</td>\n",
              "      <td>astroworld</td>\n",
              "      <td>wednesday addams as a disney princess keepin i...</td>\n",
              "      <td>2017-05-26 05:46:42</td>\n",
              "      <td>624</td>\n",
              "      <td>950</td>\n",
              "      <td>18775</td>\n",
              "      <td>False</td>\n",
              "      <td>2020-07-25</td>\n",
              "      <td>smelled scent hand sanitizers today someone pa...</td>\n",
              "      <td>NaN</td>\n",
              "      <td>Twitter for iPhone</td>\n",
              "      <td>False</td>\n",
              "    </tr>\n",
              "    <tr>\n",
              "      <th>1</th>\n",
              "      <td>76403</td>\n",
              "      <td>New York, NY</td>\n",
              "      <td>Husband, Father, Columnist &amp; Commentator. Auth...</td>\n",
              "      <td>2009-04-16 20:06:23</td>\n",
              "      <td>2253</td>\n",
              "      <td>1677</td>\n",
              "      <td>24</td>\n",
              "      <td>True</td>\n",
              "      <td>2020-07-25</td>\n",
              "      <td>hey yankees yankeespr mlb wouldnt made sense p...</td>\n",
              "      <td>NaN</td>\n",
              "      <td>Twitter for Android</td>\n",
              "      <td>False</td>\n",
              "    </tr>\n",
              "  </tbody>\n",
              "</table>\n",
              "</div>"
            ],
            "text/plain": [
              "   user_name user_location  ...               source is_retweet\n",
              "0      89755    astroworld  ...   Twitter for iPhone      False\n",
              "1      76403  New York, NY  ...  Twitter for Android      False\n",
              "\n",
              "[2 rows x 13 columns]"
            ]
          },
          "metadata": {},
          "execution_count": 16
        }
      ]
    },
    {
      "cell_type": "code",
      "metadata": {
        "colab": {
          "base_uri": "https://localhost:8080/",
          "height": 391
        },
        "id": "vPEyeBs6ALoY",
        "outputId": "0edcf61d-fb7c-408c-b197-153ec8af31a9"
      },
      "source": [
        "sns.countplot(data = df, x = 'user_verified')\n",
        "\n",
        "print(df.groupby('user_verified').count())"
      ],
      "execution_count": 17,
      "outputs": [
        {
          "output_type": "stream",
          "text": [
            "               user_name  user_location  ...  source  is_retweet\n",
            "user_verified                            ...                    \n",
            "False             156013         121146  ...  155936      156013\n",
            "True               23095          21191  ...   23095       23095\n",
            "\n",
            "[2 rows x 12 columns]\n"
          ],
          "name": "stdout"
        },
        {
          "output_type": "display_data",
          "data": {
            "image/png": "[encoded data removed]",
            "text/plain": [
              "<Figure size 432x288 with 1 Axes>"
            ]
          },
          "metadata": {}
        }
      ]
    },
    {
      "cell_type": "code",
      "metadata": {
        "colab": {
          "base_uri": "https://localhost:8080/"
        },
        "id": "gA4fSCHRdDNj",
        "outputId": "5f139df3-44e2-4ad5-d3b3-921c34e3166a"
      },
      "source": [
        "sid = SentimentIntensityAnalyzer()\n",
        "ps = lambda x: sid.polarity_scores(x)\n",
        "sentiment_score = df['text'].apply(ps)\n",
        "sentiment_score"
      ],
      "execution_count": 18,
      "outputs": [
        {
          "output_type": "execute_result",
          "data": {
            "text/plain": [
              "0         {'neg': 0.0, 'neu': 0.758, 'pos': 0.242, 'comp...\n",
              "1         {'neg': 0.11, 'neu': 0.709, 'pos': 0.181, 'com...\n",
              "2         {'neg': 0.0, 'neu': 0.832, 'pos': 0.168, 'comp...\n",
              "3         {'neg': 0.0, 'neu': 0.563, 'pos': 0.437, 'comp...\n",
              "4         {'neg': 0.0, 'neu': 0.796, 'pos': 0.204, 'comp...\n",
              "                                ...                        \n",
              "179103    {'neg': 0.0, 'neu': 0.588, 'pos': 0.412, 'comp...\n",
              "179104    {'neg': 0.435, 'neu': 0.235, 'pos': 0.329, 'co...\n",
              "179105    {'neg': 0.25, 'neu': 0.556, 'pos': 0.194, 'com...\n",
              "179106    {'neg': 0.0, 'neu': 0.66, 'pos': 0.34, 'compou...\n",
              "179107    {'neg': 0.355, 'neu': 0.645, 'pos': 0.0, 'comp...\n",
              "Name: text, Length: 179108, dtype: object"
            ]
          },
          "metadata": {},
          "execution_count": 18
        }
      ]
    },
    {
      "cell_type": "code",
      "metadata": {
        "colab": {
          "base_uri": "https://localhost:8080/",
          "height": 202
        },
        "id": "pO2ACPQJdDQQ",
        "outputId": "fc468a67-7a09-4415-818e-8f8c6357b03e"
      },
      "source": [
        "sentiment_df = pd.DataFrame(data = list(sentiment_score))\n",
        "sentiment_df.head()"
      ],
      "execution_count": 19,
      "outputs": [
        {
          "output_type": "execute_result",
          "data": {
            "text/html": [
              "<div>\n",
              "<style scoped>\n",
              "    .dataframe tbody tr th:only-of-type {\n",
              "        vertical-align: middle;\n",
              "    }\n",
              "\n",
              "    .dataframe tbody tr th {\n",
              "        vertical-align: top;\n",
              "    }\n",
              "\n",
              "    .dataframe thead th {\n",
              "        text-align: right;\n",
              "    }\n",
              "</style>\n",
              "<table border=\"1\" class=\"dataframe\">\n",
              "  <thead>\n",
              "    <tr style=\"text-align: right;\">\n",
              "      <th></th>\n",
              "      <th>neg</th>\n",
              "      <th>neu</th>\n",
              "      <th>pos</th>\n",
              "      <th>compound</th>\n",
              "    </tr>\n",
              "  </thead>\n",
              "  <tbody>\n",
              "    <tr>\n",
              "      <th>0</th>\n",
              "      <td>0.00</td>\n",
              "      <td>0.758</td>\n",
              "      <td>0.242</td>\n",
              "      <td>0.4939</td>\n",
              "    </tr>\n",
              "    <tr>\n",
              "      <th>1</th>\n",
              "      <td>0.11</td>\n",
              "      <td>0.709</td>\n",
              "      <td>0.181</td>\n",
              "      <td>0.2263</td>\n",
              "    </tr>\n",
              "    <tr>\n",
              "      <th>2</th>\n",
              "      <td>0.00</td>\n",
              "      <td>0.832</td>\n",
              "      <td>0.168</td>\n",
              "      <td>0.2057</td>\n",
              "    </tr>\n",
              "    <tr>\n",
              "      <th>3</th>\n",
              "      <td>0.00</td>\n",
              "      <td>0.563</td>\n",
              "      <td>0.437</td>\n",
              "      <td>0.7351</td>\n",
              "    </tr>\n",
              "    <tr>\n",
              "      <th>4</th>\n",
              "      <td>0.00</td>\n",
              "      <td>0.796</td>\n",
              "      <td>0.204</td>\n",
              "      <td>0.3182</td>\n",
              "    </tr>\n",
              "  </tbody>\n",
              "</table>\n",
              "</div>"
            ],
            "text/plain": [
              "    neg    neu    pos  compound\n",
              "0  0.00  0.758  0.242    0.4939\n",
              "1  0.11  0.709  0.181    0.2263\n",
              "2  0.00  0.832  0.168    0.2057\n",
              "3  0.00  0.563  0.437    0.7351\n",
              "4  0.00  0.796  0.204    0.3182"
            ]
          },
          "metadata": {},
          "execution_count": 19
        }
      ]
    },
    {
      "cell_type": "code",
      "metadata": {
        "colab": {
          "base_uri": "https://localhost:8080/",
          "height": 355
        },
        "id": "x2OCQRzjdDS6",
        "outputId": "f84f69d8-b85b-4613-bfc5-5832a7392325"
      },
      "source": [
        "labelize = lambda x: 'neutral' if x == 0 else('positive' if x > 0 else 'negative')\n",
        "sentiment_df['label'] = sentiment_df.compound.apply(labelize)\n",
        "sentiment_df.head(10)"
      ],
      "execution_count": 20,
      "outputs": [
        {
          "output_type": "execute_result",
          "data": {
            "text/html": [
              "<div>\n",
              "<style scoped>\n",
              "    .dataframe tbody tr th:only-of-type {\n",
              "        vertical-align: middle;\n",
              "    }\n",
              "\n",
              "    .dataframe tbody tr th {\n",
              "        vertical-align: top;\n",
              "    }\n",
              "\n",
              "    .dataframe thead th {\n",
              "        text-align: right;\n",
              "    }\n",
              "</style>\n",
              "<table border=\"1\" class=\"dataframe\">\n",
              "  <thead>\n",
              "    <tr style=\"text-align: right;\">\n",
              "      <th></th>\n",
              "      <th>neg</th>\n",
              "      <th>neu</th>\n",
              "      <th>pos</th>\n",
              "      <th>compound</th>\n",
              "      <th>label</th>\n",
              "    </tr>\n",
              "  </thead>\n",
              "  <tbody>\n",
              "    <tr>\n",
              "      <th>0</th>\n",
              "      <td>0.000</td>\n",
              "      <td>0.758</td>\n",
              "      <td>0.242</td>\n",
              "      <td>0.4939</td>\n",
              "      <td>positive</td>\n",
              "    </tr>\n",
              "    <tr>\n",
              "      <th>1</th>\n",
              "      <td>0.110</td>\n",
              "      <td>0.709</td>\n",
              "      <td>0.181</td>\n",
              "      <td>0.2263</td>\n",
              "      <td>positive</td>\n",
              "    </tr>\n",
              "    <tr>\n",
              "      <th>2</th>\n",
              "      <td>0.000</td>\n",
              "      <td>0.832</td>\n",
              "      <td>0.168</td>\n",
              "      <td>0.2057</td>\n",
              "      <td>positive</td>\n",
              "    </tr>\n",
              "    <tr>\n",
              "      <th>3</th>\n",
              "      <td>0.000</td>\n",
              "      <td>0.563</td>\n",
              "      <td>0.437</td>\n",
              "      <td>0.7351</td>\n",
              "      <td>positive</td>\n",
              "    </tr>\n",
              "    <tr>\n",
              "      <th>4</th>\n",
              "      <td>0.000</td>\n",
              "      <td>0.796</td>\n",
              "      <td>0.204</td>\n",
              "      <td>0.3182</td>\n",
              "      <td>positive</td>\n",
              "    </tr>\n",
              "    <tr>\n",
              "      <th>5</th>\n",
              "      <td>0.263</td>\n",
              "      <td>0.737</td>\n",
              "      <td>0.000</td>\n",
              "      <td>-0.4951</td>\n",
              "      <td>negative</td>\n",
              "    </tr>\n",
              "    <tr>\n",
              "      <th>6</th>\n",
              "      <td>0.000</td>\n",
              "      <td>1.000</td>\n",
              "      <td>0.000</td>\n",
              "      <td>0.0000</td>\n",
              "      <td>neutral</td>\n",
              "    </tr>\n",
              "    <tr>\n",
              "      <th>7</th>\n",
              "      <td>0.000</td>\n",
              "      <td>1.000</td>\n",
              "      <td>0.000</td>\n",
              "      <td>0.0000</td>\n",
              "      <td>neutral</td>\n",
              "    </tr>\n",
              "    <tr>\n",
              "      <th>8</th>\n",
              "      <td>0.000</td>\n",
              "      <td>0.426</td>\n",
              "      <td>0.574</td>\n",
              "      <td>0.6597</td>\n",
              "      <td>positive</td>\n",
              "    </tr>\n",
              "    <tr>\n",
              "      <th>9</th>\n",
              "      <td>0.000</td>\n",
              "      <td>0.792</td>\n",
              "      <td>0.208</td>\n",
              "      <td>0.2732</td>\n",
              "      <td>positive</td>\n",
              "    </tr>\n",
              "  </tbody>\n",
              "</table>\n",
              "</div>"
            ],
            "text/plain": [
              "     neg    neu    pos  compound     label\n",
              "0  0.000  0.758  0.242    0.4939  positive\n",
              "1  0.110  0.709  0.181    0.2263  positive\n",
              "2  0.000  0.832  0.168    0.2057  positive\n",
              "3  0.000  0.563  0.437    0.7351  positive\n",
              "4  0.000  0.796  0.204    0.3182  positive\n",
              "5  0.263  0.737  0.000   -0.4951  negative\n",
              "6  0.000  1.000  0.000    0.0000   neutral\n",
              "7  0.000  1.000  0.000    0.0000   neutral\n",
              "8  0.000  0.426  0.574    0.6597  positive\n",
              "9  0.000  0.792  0.208    0.2732  positive"
            ]
          },
          "metadata": {},
          "execution_count": 20
        }
      ]
    },
    {
      "cell_type": "code",
      "metadata": {
        "colab": {
          "base_uri": "https://localhost:8080/",
          "height": 162
        },
        "id": "h2X1vi0IdDWW",
        "outputId": "f9440852-99ea-4a06-ebf2-5dfea9946de3"
      },
      "source": [
        "data = df.join(sentiment_df.label)\n",
        "data.head(1)"
      ],
      "execution_count": 21,
      "outputs": [
        {
          "output_type": "execute_result",
          "data": {
            "text/html": [
              "<div>\n",
              "<style scoped>\n",
              "    .dataframe tbody tr th:only-of-type {\n",
              "        vertical-align: middle;\n",
              "    }\n",
              "\n",
              "    .dataframe tbody tr th {\n",
              "        vertical-align: top;\n",
              "    }\n",
              "\n",
              "    .dataframe thead th {\n",
              "        text-align: right;\n",
              "    }\n",
              "</style>\n",
              "<table border=\"1\" class=\"dataframe\">\n",
              "  <thead>\n",
              "    <tr style=\"text-align: right;\">\n",
              "      <th></th>\n",
              "      <th>user_name</th>\n",
              "      <th>user_location</th>\n",
              "      <th>user_description</th>\n",
              "      <th>user_created</th>\n",
              "      <th>user_followers</th>\n",
              "      <th>user_friends</th>\n",
              "      <th>user_favourites</th>\n",
              "      <th>user_verified</th>\n",
              "      <th>date</th>\n",
              "      <th>text</th>\n",
              "      <th>hashtags</th>\n",
              "      <th>source</th>\n",
              "      <th>is_retweet</th>\n",
              "      <th>label</th>\n",
              "    </tr>\n",
              "  </thead>\n",
              "  <tbody>\n",
              "    <tr>\n",
              "      <th>0</th>\n",
              "      <td>89755</td>\n",
              "      <td>astroworld</td>\n",
              "      <td>wednesday addams as a disney princess keepin i...</td>\n",
              "      <td>2017-05-26 05:46:42</td>\n",
              "      <td>624</td>\n",
              "      <td>950</td>\n",
              "      <td>18775</td>\n",
              "      <td>False</td>\n",
              "      <td>2020-07-25</td>\n",
              "      <td>smelled scent hand sanitizers today someone pa...</td>\n",
              "      <td>NaN</td>\n",
              "      <td>Twitter for iPhone</td>\n",
              "      <td>False</td>\n",
              "      <td>positive</td>\n",
              "    </tr>\n",
              "  </tbody>\n",
              "</table>\n",
              "</div>"
            ],
            "text/plain": [
              "   user_name user_location  ... is_retweet     label\n",
              "0      89755    astroworld  ...      False  positive\n",
              "\n",
              "[1 rows x 14 columns]"
            ]
          },
          "metadata": {},
          "execution_count": 21
        }
      ]
    },
    {
      "cell_type": "code",
      "metadata": {
        "colab": {
          "base_uri": "https://localhost:8080/",
          "height": 373
        },
        "id": "TrnIS3KohEmr",
        "outputId": "0b457b3c-1982-4603-d9e2-7d2f2b8185b4"
      },
      "source": [
        "count_df = data['label'].value_counts().reset_index()\n",
        "print(count_df)\n",
        "sns.barplot(data = count_df, x = 'index', y = 'label')"
      ],
      "execution_count": 22,
      "outputs": [
        {
          "output_type": "stream",
          "text": [
            "      index  label\n",
            "0  positive  70050\n",
            "1   neutral  62520\n",
            "2  negative  46538\n"
          ],
          "name": "stdout"
        },
        {
          "output_type": "execute_result",
          "data": {
            "text/plain": [
              "<matplotlib.axes._subplots.AxesSubplot at 0x7f8961a1c910>"
            ]
          },
          "metadata": {},
          "execution_count": 22
        },
        {
          "output_type": "display_data",
          "data": {
            "image/png": "[encoded data removed]",
            "text/plain": [
              "<Figure size 432x288 with 1 Axes>"
            ]
          },
          "metadata": {}
        }
      ]
    },
    {
      "cell_type": "code",
      "metadata": {
        "colab": {
          "base_uri": "https://localhost:8080/",
          "height": 410
        },
        "id": "-5fqUo7RhEpd",
        "outputId": "a834c227-d98d-493e-ca3e-6fe5d3339864"
      },
      "source": [
        "data_agg = data[['user_name', 'date', 'label']].groupby(['date', 'label']).count().reset_index()\n",
        "data_agg.columns = ['date', 'label', 'counts']\n",
        "print(data_agg.head())\n",
        "sns.lineplot(data = data_agg, x = 'date', y = 'counts', hue = 'label')\n",
        "\n",
        "#px(data = data_agg, x = 'data', y = 'counts', color = 'label')"
      ],
      "execution_count": 30,
      "outputs": [
        {
          "output_type": "stream",
          "text": [
            "         date     label  counts\n",
            "0  2020-07-24  negative      84\n",
            "1  2020-07-24   neutral      96\n",
            "2  2020-07-24  positive     115\n",
            "3  2020-07-25  negative    4326\n",
            "4  2020-07-25   neutral    5798\n"
          ],
          "name": "stdout"
        },
        {
          "output_type": "execute_result",
          "data": {
            "text/plain": [
              "<matplotlib.axes._subplots.AxesSubplot at 0x7f895d47a150>"
            ]
          },
          "metadata": {},
          "execution_count": 30
        },
        {
          "output_type": "display_data",
          "data": {
            "image/png": "[encoded data removed]",
            "text/plain": [
              "<Figure size 432x288 with 1 Axes>"
            ]
          },
          "metadata": {}
        }
      ]
    },
    {
      "cell_type": "code",
      "metadata": {
        "id": "3QzfHSophEta"
      },
      "source": [
        ""
      ],
      "execution_count": 23,
      "outputs": []
    },
    {
      "cell_type": "code",
      "metadata": {
        "id": "5dxz-PgHhEy_"
      },
      "source": [
        ""
      ],
      "execution_count": 23,
      "outputs": []
    },
    {
      "cell_type": "markdown",
      "metadata": {
        "id": "tfpkY9CIdFG9"
      },
      "source": [
        "Mine"
      ]
    },
    {
      "cell_type": "code",
      "metadata": {
        "colab": {
          "base_uri": "https://localhost:8080/",
          "height": 302
        },
        "id": "3o6kHBKOCV_F",
        "outputId": "105033be-4dfc-4508-950c-f91b95b7d378"
      },
      "source": [
        "df.groupby('is_retweet').count()\n",
        "sns.countplot(data = df, x = 'is_retweet')"
      ],
      "execution_count": 24,
      "outputs": [
        {
          "output_type": "execute_result",
          "data": {
            "text/plain": [
              "<matplotlib.axes._subplots.AxesSubplot at 0x7f895d680f90>"
            ]
          },
          "metadata": {},
          "execution_count": 24
        },
        {
          "output_type": "display_data",
          "data": {
            "image/png": "[encoded data removed]",
            "text/plain": [
              "<Figure size 432x288 with 1 Axes>"
            ]
          },
          "metadata": {}
        }
      ]
    },
    {
      "cell_type": "code",
      "metadata": {
        "colab": {
          "base_uri": "https://localhost:8080/"
        },
        "id": "P81N2fJFCwPZ",
        "outputId": "c1dc4869-de52-47a7-995d-98f1fb06c122"
      },
      "source": [
        "#sort = df.groupby('source').sum()\n",
        "#sort.sort_values('source', ascending = False)\n",
        "#sns.countplot(data = df, x = 'source')\n",
        "print(df[df['source'] == 'Twitter for iPhone'].count().reset_index())\n",
        "print(df[df['source'] == 'Twitter for Android'].count().reset_index())"
      ],
      "execution_count": 39,
      "outputs": [
        {
          "output_type": "stream",
          "text": [
            "               index      0\n",
            "0          user_name  35472\n",
            "1      user_location  27743\n",
            "2   user_description  33066\n",
            "3       user_created  35472\n",
            "4     user_followers  35472\n",
            "5       user_friends  35472\n",
            "6    user_favourites  35472\n",
            "7      user_verified  35472\n",
            "8               date  35472\n",
            "9               text  35472\n",
            "10          hashtags  24591\n",
            "11            source  35472\n",
            "12        is_retweet  35472\n",
            "               index      0\n",
            "0          user_name  40179\n",
            "1      user_location  31033\n",
            "2   user_description  37212\n",
            "3       user_created  40179\n",
            "4     user_followers  40179\n",
            "5       user_friends  40179\n",
            "6    user_favourites  40179\n",
            "7      user_verified  40179\n",
            "8               date  40179\n",
            "9               text  40179\n",
            "10          hashtags  28719\n",
            "11            source  40179\n",
            "12        is_retweet  40179\n"
          ],
          "name": "stdout"
        }
      ]
    },
    {
      "cell_type": "code",
      "metadata": {
        "colab": {
          "base_uri": "https://localhost:8080/"
        },
        "id": "iXyXOfmwHZ6-",
        "outputId": "b9624170-4a0c-4ccf-8927-7d83333522b9"
      },
      "source": [
        "df.isnull().sum()"
      ],
      "execution_count": 26,
      "outputs": [
        {
          "output_type": "execute_result",
          "data": {
            "text/plain": [
              "user_name               0\n",
              "user_location       36771\n",
              "user_description    10286\n",
              "user_created            0\n",
              "user_followers          0\n",
              "user_friends            0\n",
              "user_favourites         0\n",
              "user_verified           0\n",
              "date                    0\n",
              "text                    0\n",
              "hashtags            51334\n",
              "source                 77\n",
              "is_retweet              0\n",
              "dtype: int64"
            ]
          },
          "metadata": {},
          "execution_count": 26
        }
      ]
    },
    {
      "cell_type": "code",
      "metadata": {
        "id": "i5TkNGWOH2eF"
      },
      "source": [
        ""
      ],
      "execution_count": 26,
      "outputs": []
    }
  ]
}